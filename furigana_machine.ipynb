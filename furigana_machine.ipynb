{
 "cells": [
  {
   "cell_type": "code",
   "execution_count": 1,
   "id": "32ce40f4",
   "metadata": {},
   "outputs": [],
   "source": [
    "# Author: Haru\n",
    "# Last editted: Feb 14, 2022\n",
    "\n",
    "from sudachipy import tokenizer # Apache-2.0 License\n",
    "from sudachipy import dictionary # Apache-2.0 License\n",
    "import os # MIT License\n",
    "import nltk # Apache-2.0 License\n",
    "import pandas as pd # BSD License\n",
    "import warnings # MIT License\n",
    "import jaconv # MIT License\n",
    "import re # Apache-2.0 License\n",
    "import regex # Apache-2.0 License\n",
    "import pickle # MIT License\n",
    "import romkan # BSD License\n",
    "from pandas.core.common import flatten\n",
    "\n",
    "# ignore depreciation warnings\n",
    "warnings.filterwarnings(\"ignore\", category=DeprecationWarning) \n",
    "warnings.filterwarnings(\"ignore\", category=UserWarning) "
   ]
  },
  {
   "cell_type": "code",
   "execution_count": 2,
   "id": "89d13eff",
   "metadata": {},
   "outputs": [],
   "source": [
    "# LOAD IN YOMI DICTIONARY NO OKURIGANA\n",
    "with open('yomi_dictionary_no_okurigana.pkl', 'rb') as f:\n",
    "    yomi_dictionary = pickle.load(f)\n"
   ]
  },
  {
   "cell_type": "code",
   "execution_count": 4,
   "id": "2f859a47",
   "metadata": {},
   "outputs": [],
   "source": [
    "# SUDACHI SETTINGS\n",
    "tokenizer_obj = dictionary.Dictionary().create()\n",
    "mode = tokenizer.Tokenizer.SplitMode.C\n"
   ]
  },
  {
   "cell_type": "code",
   "execution_count": 5,
   "id": "1dfb960d",
   "metadata": {},
   "outputs": [],
   "source": [
    "# HELPER FUNCTIONS\n",
    "def split(word):\n",
    "    return [char for char in word]\n",
    "\n",
    "def is_hiragana(text):\n",
    "    p = re.compile('[\\u3041-\\u309F]+')\n",
    "    if p.fullmatch(text) == None:\n",
    "        return False\n",
    "    else:\n",
    "        return True\n",
    "    "
   ]
  },
  {
   "cell_type": "code",
   "execution_count": 6,
   "id": "9fc7b031",
   "metadata": {},
   "outputs": [],
   "source": [
    "def sudachi_kana_convert(text):\n",
    "    tokenizer_obj = dictionary.Dictionary().create()\n",
    "    mode = tokenizer.Tokenizer.SplitMode.C\n",
    "    sudachi_string = ''\n",
    "    for token in tokenizer_obj.tokenize(text, mode):\n",
    "        sudachi_token = token.reading_form()\n",
    "        sudachi_string = sudachi_string + sudachi_token\n",
    "    return(sudachi_string)"
   ]
  },
  {
   "cell_type": "code",
   "execution_count": 46,
   "id": "d1441f4e",
   "metadata": {},
   "outputs": [],
   "source": [
    "def furigana_machine(text):\n",
    "    sudachi_text = sudachi_kana_convert(text)\n",
    "    tokenizer_obj = dictionary.Dictionary().create()\n",
    "    mode = tokenizer.Tokenizer.SplitMode.C\n",
    "\n",
    "    result_list = []\n",
    "    hira_list_total = []\n",
    "    for token in tokenizer_obj.tokenize(text, mode):\n",
    "        kanji_token = token.surface()\n",
    "        sudachi_token = token.reading_form()\n",
    "        if is_hiragana(kanji_token) == True:\n",
    "            result_list = result_list + [kanji_token]\n",
    "        \n",
    "        else:\n",
    "            hira_list = chouon_convert_token_new(kanji_token, sudachi_token)\n",
    "            hira_list_total = hira_list_total + [hira_list]\n",
    "\n",
    "    hira_list_flat = list(flatten(hira_list_total))\n",
    "    \n",
    "    final_string = ''\n",
    "    counter = 0\n",
    "    for j in range(len(text)):\n",
    "        if is_hiragana(text[j]) == True:\n",
    "            final_string = final_string + text[j]\n",
    "        else:\n",
    "            final_string = final_string + text[j] + '(' + hira_list_flat[counter] + ')'\n",
    "            counter = counter + 1\n",
    "\n",
    "    return final_string\n",
    "            \n",
    "            \n",
    "\n"
   ]
  },
  {
   "cell_type": "code",
   "execution_count": 47,
   "id": "091d8505",
   "metadata": {},
   "outputs": [],
   "source": [
    "def chouon_convert_token_new(token_string_x, sudachi_token_x):\n",
    "    j = 0\n",
    "    rom_result = []\n",
    "    sudachi_token_x_spec = sudachi_token_x.replace('ッ', 'ツ')\n",
    "    romaji_token_x_spec = romkan.to_roma(sudachi_token_x_spec)\n",
    "    \n",
    "    rom_result = []\n",
    "    for char in token_string_x:\n",
    "        if char in yomi_dictionary:\n",
    "            yomis = yomi_dictionary[char]\n",
    "            yomi_rom = []\n",
    "            for yomi in yomis:\n",
    "                rom_yomi = romkan.to_roma(yomi)\n",
    "                yomi_rom = yomi_rom + [rom_yomi]\n",
    "            \n",
    "            for element in yomi_rom:\n",
    "                if element == romaji_token_x_spec[j:j+len(element)]:\n",
    "                    rom_result = rom_result + [element]\n",
    "                    j = j + len(element)\n",
    "\n",
    "    hira_list = []\n",
    "    for x in rom_result:\n",
    "        hira = romkan.to_hiragana(x)\n",
    "        hira_list = hira_list + [hira]\n",
    "        \n",
    "    return hira_list\n",
    "    "
   ]
  },
  {
   "cell_type": "code",
   "execution_count": 48,
   "id": "d127e505",
   "metadata": {},
   "outputs": [
    {
     "data": {
      "text/plain": [
       "'道(どう)路(ろ)が閉(し)まっている'"
      ]
     },
     "execution_count": 48,
     "metadata": {},
     "output_type": "execute_result"
    }
   ],
   "source": [
    "furigana_machine('道路が閉まっている')"
   ]
  },
  {
   "cell_type": "code",
   "execution_count": 49,
   "id": "c7b6ed5b",
   "metadata": {},
   "outputs": [
    {
     "data": {
      "text/plain": [
       "'公(こう)園(えん)に行(い)って遊(あそ)ぶ'"
      ]
     },
     "execution_count": 49,
     "metadata": {},
     "output_type": "execute_result"
    }
   ],
   "source": [
    "furigana_machine('公園に行って遊ぶ')"
   ]
  },
  {
   "cell_type": "code",
   "execution_count": 50,
   "id": "a8318b0c",
   "metadata": {},
   "outputs": [
    {
     "data": {
      "text/plain": [
       "'電(でん)車(しゃ)に乗(の)って帰(かえ)る'"
      ]
     },
     "execution_count": 50,
     "metadata": {},
     "output_type": "execute_result"
    }
   ],
   "source": [
    "furigana_machine('電車に乗って帰る')"
   ]
  },
  {
   "cell_type": "code",
   "execution_count": 52,
   "id": "5f80ae22",
   "metadata": {},
   "outputs": [
    {
     "data": {
      "text/plain": [
       "'母(はは)は病(びょう)院(いん)で働(はたら)いている'"
      ]
     },
     "execution_count": 52,
     "metadata": {},
     "output_type": "execute_result"
    }
   ],
   "source": [
    "furigana_machine('母は病院で働いている')"
   ]
  },
  {
   "cell_type": "code",
   "execution_count": 54,
   "id": "79e7c947",
   "metadata": {},
   "outputs": [
    {
     "data": {
      "text/plain": [
       "'海(かい)外(がい)の大(だい)学(がく)に行(い)って勉(べん)強(きょう)する'"
      ]
     },
     "execution_count": 54,
     "metadata": {},
     "output_type": "execute_result"
    }
   ],
   "source": [
    "furigana_machine('海外の大学に行って勉強する')"
   ]
  }
 ],
 "metadata": {
  "kernelspec": {
   "display_name": "speechrecognition",
   "language": "python",
   "name": "speechrecognition"
  },
  "language_info": {
   "codemirror_mode": {
    "name": "ipython",
    "version": 3
   },
   "file_extension": ".py",
   "mimetype": "text/x-python",
   "name": "python",
   "nbconvert_exporter": "python",
   "pygments_lexer": "ipython3",
   "version": "3.9.7"
  }
 },
 "nbformat": 4,
 "nbformat_minor": 5
}
